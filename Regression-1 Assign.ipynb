{
 "cells": [
  {
   "cell_type": "code",
   "execution_count": 1,
   "id": "4af270ef-61a6-418e-8130-fc7191d27f46",
   "metadata": {},
   "outputs": [],
   "source": [
    "#Q1. Explain the difference between simple linear regression and multiple linear regression. Provide an\n",
    "#example of each."
   ]
  },
  {
   "cell_type": "code",
   "execution_count": 5,
   "id": "1097e44b-1c39-4012-ae72-3d7bd05677d3",
   "metadata": {},
   "outputs": [],
   "source": [
    "#Simple linear regression has only one x and one y variable. Multiple linear regression has one y and two or \n",
    "#more x variables. For instance, when we predict rent based on square feet alone that is simple linear regression.\n",
    "# House of the Price Which is Multiple Leaner Regression"
   ]
  },
  {
   "cell_type": "code",
   "execution_count": 4,
   "id": "0a733f75-1975-45d5-b224-4b11bdea5c05",
   "metadata": {},
   "outputs": [],
   "source": [
    "#Q2.Discuss the assumptions of linear regression. How can you check whether these assumptions hold in\n",
    "#a given dataset?"
   ]
  },
  {
   "cell_type": "code",
   "execution_count": 6,
   "id": "339cce3b-7354-4068-91f7-885a9b5847bb",
   "metadata": {},
   "outputs": [],
   "source": [
    "#Assumption One: Linearity of the Data.\n",
    "#Assumption Two: Predictors (x) are Independent & Observed with Negligible Error.\n",
    "#Assumption Three: Residual Errors have a Mean Value of Zero.\n",
    "#Assumption Four: Residual Errors have Constant Variance."
   ]
  },
  {
   "cell_type": "code",
   "execution_count": 7,
   "id": "fc704500-3838-4c8e-be3f-9fea28a19d6b",
   "metadata": {},
   "outputs": [],
   "source": [
    "#Q3. How do you interpret the slope and intercept in a linear regression model? Provide an example using\n",
    "#a real-world scenario."
   ]
  },
  {
   "cell_type": "code",
   "execution_count": 8,
   "id": "4cdb31db-e0ab-40b0-acd3-8422ef339054",
   "metadata": {},
   "outputs": [],
   "source": [
    "#The greater the magnitude of the slope, the steeper the line and the greater the rate of change.\n",
    "#If the speed of the club hitting the ball increases by 1 mph, then the model predicts that the length the ball \n",
    "#travels increases by 57.66 yards."
   ]
  },
  {
   "cell_type": "code",
   "execution_count": 9,
   "id": "5d65ea8c-e941-477d-9c74-e0cc7d5c1c5b",
   "metadata": {},
   "outputs": [],
   "source": [
    "#Q4. Explain the concept of gradient descent. How is it used in machine learning?"
   ]
  },
  {
   "cell_type": "code",
   "execution_count": 10,
   "id": "13a3046b-28f8-4285-9183-1867513b86a4",
   "metadata": {},
   "outputs": [],
   "source": [
    "#Gradient descent (GD) is an iterative first-order optimisation algorithm used to find a local minimum/maximum \n",
    "#of a given function. This method is commonly used in machine learning (ML) and deep learning(DL) to minimise \n",
    "#a cost/loss function (e.g. in a linear regression)."
   ]
  },
  {
   "cell_type": "code",
   "execution_count": 11,
   "id": "83020f8d-846e-4985-8359-b3ccea4c5598",
   "metadata": {},
   "outputs": [],
   "source": [
    "#Q5.Describe the multiple linear regression model. How does it differ from simple linear regression?"
   ]
  },
  {
   "cell_type": "code",
   "execution_count": 12,
   "id": "160656a3-444e-4fc6-a901-0630f8010d0f",
   "metadata": {},
   "outputs": [],
   "source": [
    "#Multiple regression is a broader class of regressions that encompasses linear and nonlinear regressions with \n",
    "#multiple explanatory variables. Whereas linear regress only has one independent variable impacting the slope \n",
    "#of the relationship, multiple regression incorporates multiple independent variables."
   ]
  },
  {
   "cell_type": "code",
   "execution_count": 13,
   "id": "c8a7997d-fa07-48d8-83d1-a0698daf7353",
   "metadata": {},
   "outputs": [],
   "source": [
    "#Q6.Explain the concept of multicollinearity in multiple linear regression. How can you detect and\n",
    "#address this issue?"
   ]
  },
  {
   "cell_type": "code",
   "execution_count": 14,
   "id": "351bdb35-70c7-4cfa-9076-be48c875351f",
   "metadata": {},
   "outputs": [],
   "source": [
    "#Multicollinearity happens when independent variables in the regression model are highly correlated to each other. \n",
    "#It makes it hard to interpret of model and also creates an overfitting problem. It is a common assumption that \n",
    "#people test before selecting the variables into the regression model."
   ]
  },
  {
   "cell_type": "code",
   "execution_count": 16,
   "id": "2ade8490-a5b5-4b7d-a4b8-212340f4f992",
   "metadata": {},
   "outputs": [],
   "source": [
    "#Q7. Describe the polynomial regression model. How is it different from linear regression?"
   ]
  },
  {
   "cell_type": "code",
   "execution_count": 17,
   "id": "2b12a23e-455a-4140-9bd1-1f9851ff55a3",
   "metadata": {},
   "outputs": [],
   "source": [
    "#Polynomial Regression is a form of regression analysis in which the relationship between the independent \n",
    "#variables and dependent variables are modeled in the nth degree polynomial. Polynomial Regression models are \n",
    "#usually fit with the method of least squares.\n",
    "#olynomial regression is a form of Linear regression where only due to the Non-linear relationship between d\n",
    "#ependent and independent variables,"
   ]
  },
  {
   "cell_type": "code",
   "execution_count": 18,
   "id": "52c2f160-d351-4052-bcdb-90cd6180d4f9",
   "metadata": {},
   "outputs": [],
   "source": [
    "#Q8. What are the advantages and disadvantages of polynomial regression compared to linear\n",
    "#regression? In what situations would you prefer to use polynomial regression?"
   ]
  },
  {
   "cell_type": "code",
   "execution_count": null,
   "id": "a213766f-8006-4036-926e-3f89ea3b5c65",
   "metadata": {},
   "outputs": [],
   "source": [
    "#Linear regression performs exceptionally well for linearly separable data\tThe assumption of linearity \n",
    "#between dependent and independent variables\n",
    "#Easier to implement, interpret and efficient to train\tIt is often quite prone to noise and overfitting"
   ]
  }
 ],
 "metadata": {
  "kernelspec": {
   "display_name": "Python 3 (ipykernel)",
   "language": "python",
   "name": "python3"
  },
  "language_info": {
   "codemirror_mode": {
    "name": "ipython",
    "version": 3
   },
   "file_extension": ".py",
   "mimetype": "text/x-python",
   "name": "python",
   "nbconvert_exporter": "python",
   "pygments_lexer": "ipython3",
   "version": "3.10.8"
  }
 },
 "nbformat": 4,
 "nbformat_minor": 5
}
